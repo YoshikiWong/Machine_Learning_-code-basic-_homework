{
 "cells": [
  {
   "cell_type": "code",
   "execution_count": 1,
   "id": "7890a70a",
   "metadata": {},
   "outputs": [],
   "source": [
    "import pandas as pd\n",
    "import numpy as np\n",
    "import matplotlib.pyplot as plt\n",
    "from sklearn import linear_model\n",
    "from word2number import w2n"
   ]
  },
  {
   "cell_type": "code",
   "execution_count": 2,
   "id": "1deef3be",
   "metadata": {},
   "outputs": [],
   "source": [
    "df = pd.read_csv(\"hiring.csv\")\n",
    "df"
   ]
  },
  {
   "cell_type": "code",
   "execution_count": 3,
   "id": "9318df1c",
   "metadata": {},
   "outputs": [],
   "source": [
    "# Helper function to check if conversion is possible using word2number\n",
    "def can_convert_to_word_num(value):\n",
    "    if isinstance(value, str):  # Check if the value is a string\n",
    "        try:\n",
    "            w2n.word_to_num(value)\n",
    "            return True\n",
    "        except ValueError:\n",
    "            return False\n",
    "    return False  # If the value is not a string, it cannot be converted by w2n\n",
    "\n",
    "# Check if each value in the array can be converted\n",
    "#print(df.experience)\n",
    "conversion_possible = [can_convert_to_word_num(value) for value in df.experience]\n",
    "#print(conversion_possible)"
   ]
  },
  {
   "cell_type": "code",
   "execution_count": 4,
   "id": "07ab7421",
   "metadata": {},
   "outputs": [
    {
     "name": "stderr",
     "output_type": "stream",
     "text": [
      "C:\\Users\\user\\AppData\\Local\\Temp\\ipykernel_11784\\3509686055.py:4: SettingWithCopyWarning: \n",
      "A value is trying to be set on a copy of a slice from a DataFrame\n",
      "\n",
      "See the caveats in the documentation: https://pandas.pydata.org/pandas-docs/stable/user_guide/indexing.html#returning-a-view-versus-a-copy\n",
      "  df.experience[i] = NewNum\n"
     ]
    }
   ],
   "source": [
    "for i in range(0,len(df.experience),1):\n",
    "    if (conversion_possible[i] == True):\n",
    "        NewNum = w2n.word_to_num(df.experience[i])\n",
    "        df.experience[i] = NewNum\n",
    "        #print(NewNum)\n"
   ]
  },
  {
   "cell_type": "code",
   "execution_count": null,
   "id": "f1b5f86d",
   "metadata": {},
   "outputs": [],
   "source": [
    "df"
   ]
  },
  {
   "cell_type": "code",
   "execution_count": 9,
   "id": "4a8c1272",
   "metadata": {},
   "outputs": [],
   "source": [
    "df.experience = df.experience.fillna(0)\n",
    "mean_test_score = int(df[\"test_score(out_of_10)\"].mean())\n",
    "df[\"test_score(out_of_10)\"] = df[\"test_score(out_of_10)\"].fillna(mean_test_score)"
   ]
  },
  {
   "cell_type": "code",
   "execution_count": null,
   "id": "95b8bbbb",
   "metadata": {},
   "outputs": [],
   "source": [
    "df.experience = df.experience.fillna(df.experience.median())\n",
    "df[\"test_score(out_of_10)\"] = df[\"test_score(out_of_10)\"].fillna(df[\"test_score(out_of_10)\"].median())"
   ]
  },
  {
   "cell_type": "code",
   "execution_count": 10,
   "id": "91a14075",
   "metadata": {},
   "outputs": [
    {
     "data": {
      "text/html": [
       "<div>\n",
       "<style scoped>\n",
       "    .dataframe tbody tr th:only-of-type {\n",
       "        vertical-align: middle;\n",
       "    }\n",
       "\n",
       "    .dataframe tbody tr th {\n",
       "        vertical-align: top;\n",
       "    }\n",
       "\n",
       "    .dataframe thead th {\n",
       "        text-align: right;\n",
       "    }\n",
       "</style>\n",
       "<table border=\"1\" class=\"dataframe\">\n",
       "  <thead>\n",
       "    <tr style=\"text-align: right;\">\n",
       "      <th></th>\n",
       "      <th>experience</th>\n",
       "      <th>test_score(out_of_10)</th>\n",
       "      <th>interview_score(out of 10)</th>\n",
       "      <th>salary($)</th>\n",
       "    </tr>\n",
       "  </thead>\n",
       "  <tbody>\n",
       "    <tr>\n",
       "      <th>0</th>\n",
       "      <td>0</td>\n",
       "      <td>8.0</td>\n",
       "      <td>9</td>\n",
       "      <td>50000</td>\n",
       "    </tr>\n",
       "    <tr>\n",
       "      <th>1</th>\n",
       "      <td>0</td>\n",
       "      <td>8.0</td>\n",
       "      <td>6</td>\n",
       "      <td>45000</td>\n",
       "    </tr>\n",
       "    <tr>\n",
       "      <th>2</th>\n",
       "      <td>5</td>\n",
       "      <td>6.0</td>\n",
       "      <td>7</td>\n",
       "      <td>60000</td>\n",
       "    </tr>\n",
       "    <tr>\n",
       "      <th>3</th>\n",
       "      <td>2</td>\n",
       "      <td>10.0</td>\n",
       "      <td>10</td>\n",
       "      <td>65000</td>\n",
       "    </tr>\n",
       "    <tr>\n",
       "      <th>4</th>\n",
       "      <td>7</td>\n",
       "      <td>9.0</td>\n",
       "      <td>6</td>\n",
       "      <td>70000</td>\n",
       "    </tr>\n",
       "    <tr>\n",
       "      <th>5</th>\n",
       "      <td>3</td>\n",
       "      <td>7.0</td>\n",
       "      <td>10</td>\n",
       "      <td>62000</td>\n",
       "    </tr>\n",
       "    <tr>\n",
       "      <th>6</th>\n",
       "      <td>10</td>\n",
       "      <td>7.0</td>\n",
       "      <td>7</td>\n",
       "      <td>72000</td>\n",
       "    </tr>\n",
       "    <tr>\n",
       "      <th>7</th>\n",
       "      <td>11</td>\n",
       "      <td>7.0</td>\n",
       "      <td>8</td>\n",
       "      <td>80000</td>\n",
       "    </tr>\n",
       "  </tbody>\n",
       "</table>\n",
       "</div>"
      ],
      "text/plain": [
       "   experience  test_score(out_of_10)  interview_score(out of 10)  salary($)\n",
       "0           0                    8.0                           9      50000\n",
       "1           0                    8.0                           6      45000\n",
       "2           5                    6.0                           7      60000\n",
       "3           2                   10.0                          10      65000\n",
       "4           7                    9.0                           6      70000\n",
       "5           3                    7.0                          10      62000\n",
       "6          10                    7.0                           7      72000\n",
       "7          11                    7.0                           8      80000"
      ]
     },
     "execution_count": 10,
     "metadata": {},
     "output_type": "execute_result"
    }
   ],
   "source": [
    "df"
   ]
  },
  {
   "cell_type": "code",
   "execution_count": 12,
   "id": "a79ddab6",
   "metadata": {},
   "outputs": [
    {
     "name": "stdout",
     "output_type": "stream",
     "text": [
      "Please input the experiece of the worker: 12\n",
      "Please input the test score of worker: 10\n",
      "Please input the age of the interview_score of worker: 10\n",
      "93747\n"
     ]
    }
   ],
   "source": [
    "reg = linear_model.LinearRegression()\n",
    "reg.fit(df[[\"experience\",\"test_score(out_of_10)\",\"interview_score(out of 10)\"]],df[\"salary($)\"])\n",
    "\n",
    "x1 = int(input(\"Please input the experiece of the worker: \"))\n",
    "x2 = int(input(\"Please input the test score of worker: \"))\n",
    "x3 = int(input(\"Please input the age of the interview_score of worker: \"))\n",
    "\n",
    "X = [x1,x2,x3]\n",
    "Coef = reg.coef_\n",
    "intercept = reg.intercept_\n",
    "\n",
    "price = intercept\n",
    "for i in range(0,len(reg.coef_),1):\n",
    "    price = price + X[i]*Coef[i]\n",
    "print(int(price))"
   ]
  },
  {
   "cell_type": "code",
   "execution_count": null,
   "id": "bf0ef9ca",
   "metadata": {},
   "outputs": [],
   "source": []
  }
 ],
 "metadata": {
  "kernelspec": {
   "display_name": "Python 3 (ipykernel)",
   "language": "python",
   "name": "python3"
  },
  "language_info": {
   "codemirror_mode": {
    "name": "ipython",
    "version": 3
   },
   "file_extension": ".py",
   "mimetype": "text/x-python",
   "name": "python",
   "nbconvert_exporter": "python",
   "pygments_lexer": "ipython3",
   "version": "3.10.9"
  }
 },
 "nbformat": 4,
 "nbformat_minor": 5
}
